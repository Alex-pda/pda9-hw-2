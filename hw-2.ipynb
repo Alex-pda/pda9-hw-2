{
 "cells": [
  {
   "cell_type": "markdown",
   "metadata": {},
   "source": [
    "Задание 1. Даны 2 строки: long_phrase и short_phrase. Напишите код, который проверяет действительно ли длинная фраза long_phrase длиннее короткой short_phrase. И выводит True или False в зависимости от результата сравнения."
   ]
  },
  {
   "cell_type": "code",
   "execution_count": null,
   "metadata": {},
   "outputs": [],
   "source": [
    "long_phrase = 'Насколько проще было бы писать программы, если бы не заказчики'\n",
    "short_phrase = '640Кб должно хватить для любых задач. Билл Гейтс (по легенде)'"
   ]
  },
  {
   "cell_type": "code",
   "execution_count": 7,
   "metadata": {},
   "outputs": [
    {
     "name": "stdout",
     "output_type": "stream",
     "text": [
      "False\n"
     ]
    }
   ],
   "source": [
    "long_phrase = 'Насколько проще было бы писать программы, если бы не заказчики'\n",
    "short_phrase = '640Кб должно хватить для любых задач. Билл Гейтс (по легенде)'\n",
    "if len(long_phrase) > len(short_phrase):\n",
    "    print(True)\n",
    "else: print(False)"
   ]
  },
  {
   "cell_type": "markdown",
   "metadata": {},
   "source": [
    "Задание 2. Дано значение объема файла в байтах (в мегабайте 2^20 байт). Напишите перевод этого значения в мегабайты в формате: \"Объем файла равен 213.68Mb\"."
   ]
  },
  {
   "cell_type": "code",
   "execution_count": 22,
   "metadata": {},
   "outputs": [
    {
     "name": "stdout",
     "output_type": "stream",
     "text": [
      "123123123\n",
      "117.42Mb\n"
     ]
    }
   ],
   "source": [
    "file_size = input()\n",
    "file_size_mb = round(int(file_size) / 2**20, 2)\n",
    "print(str(file_size_mb) + 'Mb')"
   ]
  },
  {
   "cell_type": "markdown",
   "metadata": {},
   "source": [
    "Задание 3. Разработать приложение для определения знака зодиака по дате рождения. Пример:\n",
    "\n",
    "Введите месяц: март\n",
    "\n",
    "Введите число: 6\n",
    "\n",
    "Вывод: Рыбы"
   ]
  },
  {
   "cell_type": "code",
   "execution_count": 35,
   "metadata": {},
   "outputs": [
    {
     "name": "stdout",
     "output_type": "stream",
     "text": [
      "Введите месяц: апрель\n",
      "Введите число: 26\n",
      "Вывод: Телец\n"
     ]
    }
   ],
   "source": [
    "month = input('Введите месяц: ')\n",
    "date = int(input('Введите число: '))\n",
    "if month == 'январь' and date >= 1 and date <= 20:\n",
    "    print('Вывод: ' + 'Козерог')\n",
    "elif month == 'январь' and date >= 21 and date <= 31:\n",
    "    print('Вывод: ' + 'Водолей')\n",
    "elif month == 'февраль' and date >= 1 and date <= 19:\n",
    "    print('Вывод: ' + 'Водолей')   \n",
    "elif month == 'февраль' and date >= 20 and date <= 29:\n",
    "    print('Вывод: ' + 'Рыбы')\n",
    "elif month == 'март' and date >= 1 and date <= 20:\n",
    "    print('Вывод: ' + 'Рыбы')   \n",
    "elif month == 'март' and date >= 21 and date <= 31:\n",
    "    print('Вывод: ' + 'Овен')\n",
    "elif month == 'апрель' and date >= 1 and date <= 20:\n",
    "    print('Вывод: ' + 'Овен')   \n",
    "elif month == 'апрель' and date >= 20 and date <= 30:\n",
    "    print('Вывод: ' + 'Телец')\n",
    "elif month == 'май' and date >= 1 and date <= 21:\n",
    "    print('Вывод: ' + 'Телец')   \n",
    "elif month == 'май' and date >= 22 and date <= 31:\n",
    "    print('Вывод: ' + 'Близнецы')\n",
    "elif month == 'июнь' and date >= 1 and date <= 21:\n",
    "    print('Вывод: ' + 'Близнецы')   \n",
    "elif month == 'июнь' and date >= 22 and date <= 30:\n",
    "    print('Вывод: ' + 'Рак')\n",
    "elif month == 'июль' and date >= 1 and date <= 22:\n",
    "    print('Вывод: ' + 'Рак')   \n",
    "elif month == 'июль' and date >= 23 and date <= 31:\n",
    "    print('Вывод: ' + 'Лев')\n",
    "elif month == 'август' and date >= 1 and date <= 19:\n",
    "    print('Вывод: ' + 'Лев')   \n",
    "elif month == 'август' and date >= 24 and date <= 31:\n",
    "    print('Вывод: ' + 'Дева')\n",
    "elif month == 'сентябрь' and date >= 1 and date <= 23:\n",
    "    print('Вывод: ' + 'Дева')   \n",
    "elif month == 'сентябрь' and date >= 24 and date <= 30:\n",
    "    print('Вывод: ' + 'Весы')\n",
    "elif month == 'октябрь' and date >= 1 and date <= 23:\n",
    "    print('Вывод: ' + 'Весы')   \n",
    "elif month == 'октябрь' and date >= 24 and date <= 31:\n",
    "    print('Вывод: ' + 'Скорпион')\n",
    "elif month == 'ноябрь' and date >= 1 and date <= 22:\n",
    "    print('Вывод: ' + 'Скорпион')   \n",
    "elif month == 'ноябрь' and date >= 23 and date <= 30:\n",
    "    print('Вывод: ' + 'Стрелец')\n",
    "elif month == 'декабрь' and date >= 1 and date <= 22:\n",
    "    print('Вывод: ' + 'Стрелец')   \n",
    "elif month == 'декабрь' and date >= 23 and date <= 31:\n",
    "    print('Вывод: ' + 'Козерог')\n",
    "else: print('Ошибка ввода, повторите')"
   ]
  },
  {
   "cell_type": "markdown",
   "metadata": {},
   "source": [
    "Задание 4. Нужно разработать приложение для финансового планирования. Приложение учитывает сколько уходит на ипотеку, \"на жизнь\" и сколько нужно отложить на пенсию. Пользователь вводит:\n",
    "\n",
    "заработанную плату в месяц.\n",
    "сколько процентов от ЗП уходит на ипотеку.\n",
    "сколько процентов от ЗП уходит \"на жизнь\".\n",
    "сколько раз приходит премия в год.\n",
    "Остальная часть заработанной платы откладывается на пенсию.\n",
    "\n",
    "Также пользователю приходит премия в размере зарплаты, от которой половина уходит на отпуск, а вторая половина откладывается.\n",
    "\n",
    "Программа должна учитывать сколько премий было в год.\n",
    "\n",
    "Нужно вывести сколько денег тратит пользователь на ипотеку и сколько он накопит за год.\n",
    "\n",
    "Пример:\n",
    "\n",
    "Введите заработанную плату в месяц: 100000\n",
    "\n",
    "Введите сколько процентов уходит на ипотеку: 30\n",
    "\n",
    "Введите сколько процентов уходит на жизнь: 50\n",
    "\n",
    "Введите количество премий за год: 2\n",
    "\n",
    "Вывод: На ипотеку было потрачено: 360000 рублей Было накоплено: 340000 рублей"
   ]
  },
  {
   "cell_type": "code",
   "execution_count": 38,
   "metadata": {},
   "outputs": [
    {
     "name": "stdout",
     "output_type": "stream",
     "text": [
      "Введите заработанную плату в месяц: 100000\n",
      "Введите сколько процентов уходит на ипотеку: 30\n",
      "Введите сколько процентов уходит на жизнь: 50\n",
      "Введите количество премий за год: 2\n",
      "Вывод: На ипотеку было потрачено: 360000 рублей. Было накоплено: 340000 рублей\n"
     ]
    }
   ],
   "source": [
    "zp = int(input('Введите заработанную плату в месяц: '))\n",
    "ipoteka_per = int(input('Введите сколько процентов уходит на ипотеку: '))\n",
    "life_per = int(input('Введите сколько процентов уходит на жизнь: '))\n",
    "reward = int(input('Введите количество премий за год: '))\n",
    "ipoteka_spend = int (zp * 12 * ipoteka_per / 100)\n",
    "suspend = int((zp * 12 * (1 - life_per / 100) - ipoteka_spend + zp * reward / 2))\n",
    "print('Вывод: На ипотеку было потрачено: ' + str(ipoteka_spend) + ' рублей. Было накоплено: ' + str(suspend) + ' рублей')"
   ]
  },
  {
   "cell_type": "code",
   "execution_count": null,
   "metadata": {},
   "outputs": [],
   "source": []
  }
 ],
 "metadata": {
  "kernelspec": {
   "display_name": "Python 3",
   "language": "python",
   "name": "python3"
  },
  "language_info": {
   "codemirror_mode": {
    "name": "ipython",
    "version": 3
   },
   "file_extension": ".py",
   "mimetype": "text/x-python",
   "name": "python",
   "nbconvert_exporter": "python",
   "pygments_lexer": "ipython3",
   "version": "3.7.6"
  }
 },
 "nbformat": 4,
 "nbformat_minor": 4
}
